{
 "cells": [
  {
   "cell_type": "markdown",
   "id": "f7c44d08",
   "metadata": {},
   "source": [
    "# COUNTRY-WISE COVID CASES <br/>\n",
    " \n",
    "**AUTHOR:** *SUNAYANA GAWDE* <br/>\n",
    "**DATE:** *14 April 2023* <br/>\n",
    "**SOURCE:** *Kaggle*<br/>\n",
    "**GITHUB URL:**  "
   ]
  },
  {
   "cell_type": "code",
   "execution_count": 18,
   "id": "9639b876",
   "metadata": {},
   "outputs": [],
   "source": [
    "#Import Libraries\n",
    "\n",
    "import pandas as pd\n",
    "import numpy as np\n",
    "from pandas import Series, DataFrame\n",
    "\n",
    "import scipy\n",
    "from scipy import stats\n",
    "\n",
    "data = pd.read_excel(\"Country-wise-COVID-cases_v5.xlsx\")"
   ]
  },
  {
   "cell_type": "code",
   "execution_count": 4,
   "id": "cc1f98b0",
   "metadata": {},
   "outputs": [
    {
     "data": {
      "text/html": [
       "<div>\n",
       "<style scoped>\n",
       "    .dataframe tbody tr th:only-of-type {\n",
       "        vertical-align: middle;\n",
       "    }\n",
       "\n",
       "    .dataframe tbody tr th {\n",
       "        vertical-align: top;\n",
       "    }\n",
       "\n",
       "    .dataframe thead th {\n",
       "        text-align: right;\n",
       "    }\n",
       "</style>\n",
       "<table border=\"1\" class=\"dataframe\">\n",
       "  <thead>\n",
       "    <tr style=\"text-align: right;\">\n",
       "      <th></th>\n",
       "      <th>Country Name</th>\n",
       "      <th>Total Infected</th>\n",
       "      <th>Total Deaths</th>\n",
       "      <th>Total Recovered</th>\n",
       "      <th>Death %</th>\n",
       "      <th>Recovered %</th>\n",
       "    </tr>\n",
       "  </thead>\n",
       "  <tbody>\n",
       "    <tr>\n",
       "      <th>0</th>\n",
       "      <td>Afghanistan</td>\n",
       "      <td>156610</td>\n",
       "      <td>7294</td>\n",
       "      <td>129263</td>\n",
       "      <td>4.7</td>\n",
       "      <td>82.5</td>\n",
       "    </tr>\n",
       "    <tr>\n",
       "      <th>1</th>\n",
       "      <td>Albania</td>\n",
       "      <td>193075</td>\n",
       "      <td>2990</td>\n",
       "      <td>181649</td>\n",
       "      <td>1.5</td>\n",
       "      <td>94.1</td>\n",
       "    </tr>\n",
       "    <tr>\n",
       "      <th>2</th>\n",
       "      <td>Algeria</td>\n",
       "      <td>207970</td>\n",
       "      <td>5984</td>\n",
       "      <td>142698</td>\n",
       "      <td>2.9</td>\n",
       "      <td>68.6</td>\n",
       "    </tr>\n",
       "    <tr>\n",
       "      <th>3</th>\n",
       "      <td>Andorra</td>\n",
       "      <td>15819</td>\n",
       "      <td>130</td>\n",
       "      <td>15443</td>\n",
       "      <td>0.8</td>\n",
       "      <td>97.6</td>\n",
       "    </tr>\n",
       "    <tr>\n",
       "      <th>4</th>\n",
       "      <td>Angola</td>\n",
       "      <td>64913</td>\n",
       "      <td>1727</td>\n",
       "      <td>61687</td>\n",
       "      <td>2.7</td>\n",
       "      <td>95.0</td>\n",
       "    </tr>\n",
       "  </tbody>\n",
       "</table>\n",
       "</div>"
      ],
      "text/plain": [
       "  Country Name  Total Infected  Total Deaths  Total Recovered  Death %  \\\n",
       "0  Afghanistan          156610          7294           129263      4.7   \n",
       "1      Albania          193075          2990           181649      1.5   \n",
       "2      Algeria          207970          5984           142698      2.9   \n",
       "3      Andorra           15819           130            15443      0.8   \n",
       "4       Angola           64913          1727            61687      2.7   \n",
       "\n",
       "   Recovered %  \n",
       "0         82.5  \n",
       "1         94.1  \n",
       "2         68.6  \n",
       "3         97.6  \n",
       "4         95.0  "
      ]
     },
     "execution_count": 4,
     "metadata": {},
     "output_type": "execute_result"
    }
   ],
   "source": [
    "data.head()"
   ]
  },
  {
   "cell_type": "markdown",
   "id": "ede16161",
   "metadata": {},
   "source": [
    "## DESCRIPTIVE STATISTICS"
   ]
  },
  {
   "cell_type": "code",
   "execution_count": 20,
   "id": "15c3b996",
   "metadata": {},
   "outputs": [
    {
     "data": {
      "text/html": [
       "<div>\n",
       "<style scoped>\n",
       "    .dataframe tbody tr th:only-of-type {\n",
       "        vertical-align: middle;\n",
       "    }\n",
       "\n",
       "    .dataframe tbody tr th {\n",
       "        vertical-align: top;\n",
       "    }\n",
       "\n",
       "    .dataframe thead th {\n",
       "        text-align: right;\n",
       "    }\n",
       "</style>\n",
       "<table border=\"1\" class=\"dataframe\">\n",
       "  <thead>\n",
       "    <tr style=\"text-align: right;\">\n",
       "      <th></th>\n",
       "      <th>Total Infected</th>\n",
       "      <th>Total Deaths</th>\n",
       "      <th>Total Recovered</th>\n",
       "      <th>Death %</th>\n",
       "      <th>Recovered %</th>\n",
       "    </tr>\n",
       "  </thead>\n",
       "  <tbody>\n",
       "    <tr>\n",
       "      <th>0</th>\n",
       "      <td>156610</td>\n",
       "      <td>7294</td>\n",
       "      <td>129263</td>\n",
       "      <td>4.7</td>\n",
       "      <td>82.5</td>\n",
       "    </tr>\n",
       "    <tr>\n",
       "      <th>1</th>\n",
       "      <td>193075</td>\n",
       "      <td>2990</td>\n",
       "      <td>181649</td>\n",
       "      <td>1.5</td>\n",
       "      <td>94.1</td>\n",
       "    </tr>\n",
       "    <tr>\n",
       "      <th>2</th>\n",
       "      <td>207970</td>\n",
       "      <td>5984</td>\n",
       "      <td>142698</td>\n",
       "      <td>2.9</td>\n",
       "      <td>68.6</td>\n",
       "    </tr>\n",
       "    <tr>\n",
       "      <th>3</th>\n",
       "      <td>15819</td>\n",
       "      <td>130</td>\n",
       "      <td>15443</td>\n",
       "      <td>0.8</td>\n",
       "      <td>97.6</td>\n",
       "    </tr>\n",
       "    <tr>\n",
       "      <th>4</th>\n",
       "      <td>64913</td>\n",
       "      <td>1727</td>\n",
       "      <td>61687</td>\n",
       "      <td>2.7</td>\n",
       "      <td>95.0</td>\n",
       "    </tr>\n",
       "    <tr>\n",
       "      <th>...</th>\n",
       "      <td>...</td>\n",
       "      <td>...</td>\n",
       "      <td>...</td>\n",
       "      <td>...</td>\n",
       "      <td>...</td>\n",
       "    </tr>\n",
       "    <tr>\n",
       "      <th>207</th>\n",
       "      <td>445</td>\n",
       "      <td>7</td>\n",
       "      <td>438</td>\n",
       "      <td>1.6</td>\n",
       "      <td>98.4</td>\n",
       "    </tr>\n",
       "    <tr>\n",
       "      <th>208</th>\n",
       "      <td>10</td>\n",
       "      <td>1</td>\n",
       "      <td>8</td>\n",
       "      <td>10.0</td>\n",
       "      <td>80.0</td>\n",
       "    </tr>\n",
       "    <tr>\n",
       "      <th>209</th>\n",
       "      <td>9918</td>\n",
       "      <td>1923</td>\n",
       "      <td>6623</td>\n",
       "      <td>19.4</td>\n",
       "      <td>66.8</td>\n",
       "    </tr>\n",
       "    <tr>\n",
       "      <th>210</th>\n",
       "      <td>209996</td>\n",
       "      <td>3666</td>\n",
       "      <td>206209</td>\n",
       "      <td>1.7</td>\n",
       "      <td>98.2</td>\n",
       "    </tr>\n",
       "    <tr>\n",
       "      <th>211</th>\n",
       "      <td>133438</td>\n",
       "      <td>4697</td>\n",
       "      <td>128287</td>\n",
       "      <td>3.5</td>\n",
       "      <td>96.1</td>\n",
       "    </tr>\n",
       "  </tbody>\n",
       "</table>\n",
       "<p>212 rows × 5 columns</p>\n",
       "</div>"
      ],
      "text/plain": [
       "     Total Infected  Total Deaths  Total Recovered  Death %  Recovered %\n",
       "0            156610          7294           129263      4.7         82.5\n",
       "1            193075          2990           181649      1.5         94.1\n",
       "2            207970          5984           142698      2.9         68.6\n",
       "3             15819           130            15443      0.8         97.6\n",
       "4             64913          1727            61687      2.7         95.0\n",
       "..              ...           ...              ...      ...          ...\n",
       "207             445             7              438      1.6         98.4\n",
       "208              10             1                8     10.0         80.0\n",
       "209            9918          1923             6623     19.4         66.8\n",
       "210          209996          3666           206209      1.7         98.2\n",
       "211          133438          4697           128287      3.5         96.1\n",
       "\n",
       "[212 rows x 5 columns]"
      ]
     },
     "execution_count": 20,
     "metadata": {},
     "output_type": "execute_result"
    }
   ],
   "source": [
    "Data = pd.read_excel(\"Country-wise-COVID-cases_v5.xlsx\", usecols = [1,2,3,4,5])\n",
    "Data"
   ]
  },
  {
   "cell_type": "code",
   "execution_count": 21,
   "id": "d3ead93e",
   "metadata": {},
   "outputs": [
    {
     "data": {
      "text/plain": [
       "Total Infected     253979437.0\n",
       "Total Deaths         5115861.0\n",
       "Total Recovered    229704568.0\n",
       "Death %                  430.7\n",
       "Recovered %            18156.6\n",
       "dtype: float64"
      ]
     },
     "execution_count": 21,
     "metadata": {},
     "output_type": "execute_result"
    }
   ],
   "source": [
    "Data.sum()"
   ]
  },
  {
   "cell_type": "code",
   "execution_count": 22,
   "id": "1db3ae0d",
   "metadata": {},
   "outputs": [
    {
     "data": {
      "text/plain": [
       "Total Infected     1.198016e+06\n",
       "Total Deaths       2.413142e+04\n",
       "Total Recovered    1.083512e+06\n",
       "Death %            2.031604e+00\n",
       "Recovered %        8.564434e+01\n",
       "dtype: float64"
      ]
     },
     "execution_count": 22,
     "metadata": {},
     "output_type": "execute_result"
    }
   ],
   "source": [
    "Data.mean()"
   ]
  },
  {
   "cell_type": "code",
   "execution_count": 23,
   "id": "eb0a965a",
   "metadata": {},
   "outputs": [
    {
     "data": {
      "text/plain": [
       "Total Infected     128012.50\n",
       "Total Deaths         1888.00\n",
       "Total Recovered    101748.00\n",
       "Death %                 1.50\n",
       "Recovered %            94.75\n",
       "dtype: float64"
      ]
     },
     "execution_count": 23,
     "metadata": {},
     "output_type": "execute_result"
    }
   ],
   "source": [
    "Data.median()"
   ]
  },
  {
   "cell_type": "code",
   "execution_count": 24,
   "id": "e6275e8e",
   "metadata": {},
   "outputs": [
    {
     "data": {
      "text/plain": [
       "Total Infected     47916190.0\n",
       "Total Deaths         783565.0\n",
       "Total Recovered    37918301.0\n",
       "Death %                  19.4\n",
       "Recovered %             100.0\n",
       "dtype: float64"
      ]
     },
     "execution_count": 24,
     "metadata": {},
     "output_type": "execute_result"
    }
   ],
   "source": [
    "Data.max()"
   ]
  },
  {
   "cell_type": "code",
   "execution_count": 38,
   "id": "111298fb",
   "metadata": {},
   "outputs": [
    {
     "data": {
      "text/plain": [
       "Total Infected     1.0\n",
       "Total Deaths       0.0\n",
       "Total Recovered    0.0\n",
       "Death %            0.0\n",
       "Recovered %        0.0\n",
       "dtype: float64"
      ]
     },
     "execution_count": 38,
     "metadata": {},
     "output_type": "execute_result"
    }
   ],
   "source": [
    "Data.min()"
   ]
  },
  {
   "cell_type": "code",
   "execution_count": 25,
   "id": "51ec1749",
   "metadata": {},
   "outputs": [
    {
     "data": {
      "text/html": [
       "<div>\n",
       "<style scoped>\n",
       "    .dataframe tbody tr th:only-of-type {\n",
       "        vertical-align: middle;\n",
       "    }\n",
       "\n",
       "    .dataframe tbody tr th {\n",
       "        vertical-align: top;\n",
       "    }\n",
       "\n",
       "    .dataframe thead th {\n",
       "        text-align: right;\n",
       "    }\n",
       "</style>\n",
       "<table border=\"1\" class=\"dataframe\">\n",
       "  <thead>\n",
       "    <tr style=\"text-align: right;\">\n",
       "      <th></th>\n",
       "      <th>Total Infected</th>\n",
       "      <th>Total Deaths</th>\n",
       "      <th>Total Recovered</th>\n",
       "      <th>Death %</th>\n",
       "      <th>Recovered %</th>\n",
       "    </tr>\n",
       "  </thead>\n",
       "  <tbody>\n",
       "    <tr>\n",
       "      <th>0</th>\n",
       "      <td>1.0</td>\n",
       "      <td>0.0</td>\n",
       "      <td>3</td>\n",
       "      <td>1.3</td>\n",
       "      <td>100.0</td>\n",
       "    </tr>\n",
       "    <tr>\n",
       "      <th>1</th>\n",
       "      <td>NaN</td>\n",
       "      <td>NaN</td>\n",
       "      <td>8</td>\n",
       "      <td>NaN</td>\n",
       "      <td>NaN</td>\n",
       "    </tr>\n",
       "    <tr>\n",
       "      <th>2</th>\n",
       "      <td>NaN</td>\n",
       "      <td>NaN</td>\n",
       "      <td>2649</td>\n",
       "      <td>NaN</td>\n",
       "      <td>NaN</td>\n",
       "    </tr>\n",
       "  </tbody>\n",
       "</table>\n",
       "</div>"
      ],
      "text/plain": [
       "   Total Infected  Total Deaths  Total Recovered  Death %  Recovered %\n",
       "0             1.0           0.0                3      1.3        100.0\n",
       "1             NaN           NaN                8      NaN          NaN\n",
       "2             NaN           NaN             2649      NaN          NaN"
      ]
     },
     "execution_count": 25,
     "metadata": {},
     "output_type": "execute_result"
    }
   ],
   "source": [
    "Data.mode()"
   ]
  },
  {
   "cell_type": "code",
   "execution_count": 26,
   "id": "94c93c03",
   "metadata": {},
   "outputs": [
    {
     "data": {
      "text/plain": [
       "Total Infected     4.496011e+06\n",
       "Total Deaths       8.302912e+04\n",
       "Total Recovered    3.944714e+06\n",
       "Death %            2.184476e+00\n",
       "Recovered %        2.194202e+01\n",
       "dtype: float64"
      ]
     },
     "execution_count": 26,
     "metadata": {},
     "output_type": "execute_result"
    }
   ],
   "source": [
    "Data.std()"
   ]
  },
  {
   "cell_type": "code",
   "execution_count": 27,
   "id": "2d146b8d",
   "metadata": {},
   "outputs": [
    {
     "data": {
      "text/plain": [
       "Total Infected     2.021411e+13\n",
       "Total Deaths       6.893834e+09\n",
       "Total Recovered    1.556077e+13\n",
       "Death %            4.771935e+00\n",
       "Recovered %        4.814524e+02\n",
       "dtype: float64"
      ]
     },
     "execution_count": 27,
     "metadata": {},
     "output_type": "execute_result"
    }
   ],
   "source": [
    "Data.var()"
   ]
  },
  {
   "cell_type": "code",
   "execution_count": 32,
   "id": "3a791e33",
   "metadata": {},
   "outputs": [
    {
     "name": "stdout",
     "output_type": "stream",
     "text": [
      "Geometric Mean:  [79371.06174339     0.             0.             0.\n",
      "     0.        ]\n"
     ]
    }
   ],
   "source": [
    "from scipy.stats import gmean\n",
    "Geomean = gmean(Data)\n",
    "print(\"Geometric Mean: \", Geomean)"
   ]
  },
  {
   "cell_type": "markdown",
   "id": "53c7927a",
   "metadata": {},
   "source": [
    "### DESCRIPTIVE STATISTICS - DATA 1"
   ]
  },
  {
   "cell_type": "code",
   "execution_count": 42,
   "id": "df28d77c",
   "metadata": {},
   "outputs": [
    {
     "data": {
      "text/html": [
       "<div>\n",
       "<style scoped>\n",
       "    .dataframe tbody tr th:only-of-type {\n",
       "        vertical-align: middle;\n",
       "    }\n",
       "\n",
       "    .dataframe tbody tr th {\n",
       "        vertical-align: top;\n",
       "    }\n",
       "\n",
       "    .dataframe thead th {\n",
       "        text-align: right;\n",
       "    }\n",
       "</style>\n",
       "<table border=\"1\" class=\"dataframe\">\n",
       "  <thead>\n",
       "    <tr style=\"text-align: right;\">\n",
       "      <th></th>\n",
       "      <th>Total Infected</th>\n",
       "    </tr>\n",
       "  </thead>\n",
       "  <tbody>\n",
       "    <tr>\n",
       "      <th>0</th>\n",
       "      <td>156610</td>\n",
       "    </tr>\n",
       "    <tr>\n",
       "      <th>1</th>\n",
       "      <td>193075</td>\n",
       "    </tr>\n",
       "    <tr>\n",
       "      <th>2</th>\n",
       "      <td>207970</td>\n",
       "    </tr>\n",
       "    <tr>\n",
       "      <th>3</th>\n",
       "      <td>15819</td>\n",
       "    </tr>\n",
       "    <tr>\n",
       "      <th>4</th>\n",
       "      <td>64913</td>\n",
       "    </tr>\n",
       "    <tr>\n",
       "      <th>...</th>\n",
       "      <td>...</td>\n",
       "    </tr>\n",
       "    <tr>\n",
       "      <th>207</th>\n",
       "      <td>445</td>\n",
       "    </tr>\n",
       "    <tr>\n",
       "      <th>208</th>\n",
       "      <td>10</td>\n",
       "    </tr>\n",
       "    <tr>\n",
       "      <th>209</th>\n",
       "      <td>9918</td>\n",
       "    </tr>\n",
       "    <tr>\n",
       "      <th>210</th>\n",
       "      <td>209996</td>\n",
       "    </tr>\n",
       "    <tr>\n",
       "      <th>211</th>\n",
       "      <td>133438</td>\n",
       "    </tr>\n",
       "  </tbody>\n",
       "</table>\n",
       "<p>212 rows × 1 columns</p>\n",
       "</div>"
      ],
      "text/plain": [
       "     Total Infected\n",
       "0            156610\n",
       "1            193075\n",
       "2            207970\n",
       "3             15819\n",
       "4             64913\n",
       "..              ...\n",
       "207             445\n",
       "208              10\n",
       "209            9918\n",
       "210          209996\n",
       "211          133438\n",
       "\n",
       "[212 rows x 1 columns]"
      ]
     },
     "execution_count": 42,
     "metadata": {},
     "output_type": "execute_result"
    }
   ],
   "source": [
    "Data1 = pd.read_excel(\"Country-wise-COVID-cases_v5.xlsx\", usecols = [1])\n",
    "Data1"
   ]
  },
  {
   "cell_type": "code",
   "execution_count": 48,
   "id": "0ec2445e",
   "metadata": {},
   "outputs": [
    {
     "data": {
      "text/plain": [
       "Total Infected    1.198016e+06\n",
       "dtype: float64"
      ]
     },
     "execution_count": 48,
     "metadata": {},
     "output_type": "execute_result"
    }
   ],
   "source": [
    "#Mean\n",
    "Data1.mean()"
   ]
  },
  {
   "cell_type": "code",
   "execution_count": 49,
   "id": "8b017aaa",
   "metadata": {},
   "outputs": [
    {
     "data": {
      "text/html": [
       "<div>\n",
       "<style scoped>\n",
       "    .dataframe tbody tr th:only-of-type {\n",
       "        vertical-align: middle;\n",
       "    }\n",
       "\n",
       "    .dataframe tbody tr th {\n",
       "        vertical-align: top;\n",
       "    }\n",
       "\n",
       "    .dataframe thead th {\n",
       "        text-align: right;\n",
       "    }\n",
       "</style>\n",
       "<table border=\"1\" class=\"dataframe\">\n",
       "  <thead>\n",
       "    <tr style=\"text-align: right;\">\n",
       "      <th></th>\n",
       "      <th>Total Infected</th>\n",
       "    </tr>\n",
       "  </thead>\n",
       "  <tbody>\n",
       "    <tr>\n",
       "      <th>0</th>\n",
       "      <td>1</td>\n",
       "    </tr>\n",
       "  </tbody>\n",
       "</table>\n",
       "</div>"
      ],
      "text/plain": [
       "   Total Infected\n",
       "0               1"
      ]
     },
     "execution_count": 49,
     "metadata": {},
     "output_type": "execute_result"
    }
   ],
   "source": [
    "#Mode\n",
    "Data1.mode()"
   ]
  },
  {
   "cell_type": "code",
   "execution_count": 50,
   "id": "5fa0f980",
   "metadata": {},
   "outputs": [
    {
     "data": {
      "text/plain": [
       "Total Infected    128012.5\n",
       "dtype: float64"
      ]
     },
     "execution_count": 50,
     "metadata": {},
     "output_type": "execute_result"
    }
   ],
   "source": [
    "#Median\n",
    "Data1.median()"
   ]
  },
  {
   "cell_type": "code",
   "execution_count": 53,
   "id": "5a63459d",
   "metadata": {},
   "outputs": [
    {
     "data": {
      "text/plain": [
       "Total Infected    1\n",
       "dtype: int64"
      ]
     },
     "execution_count": 53,
     "metadata": {},
     "output_type": "execute_result"
    }
   ],
   "source": [
    "#Maximum \n",
    "Data1.max()"
   ]
  },
  {
   "cell_type": "code",
   "execution_count": 54,
   "id": "528566f6",
   "metadata": {},
   "outputs": [
    {
     "data": {
      "text/plain": [
       "Total Infected    1\n",
       "dtype: int64"
      ]
     },
     "execution_count": 54,
     "metadata": {},
     "output_type": "execute_result"
    }
   ],
   "source": [
    "#Minimum\n",
    "Data1.min()"
   ]
  },
  {
   "cell_type": "code",
   "execution_count": 52,
   "id": "be5aacf1",
   "metadata": {},
   "outputs": [
    {
     "name": "stdout",
     "output_type": "stream",
     "text": [
      "Total Infected    0\n",
      "dtype: int64\n"
     ]
    }
   ],
   "source": [
    "#Range\n",
    "Range = Data1.max() - Data1.min()\n",
    "print(Range)"
   ]
  },
  {
   "cell_type": "code",
   "execution_count": 55,
   "id": "1ac9a224",
   "metadata": {},
   "outputs": [
    {
     "name": "stdout",
     "output_type": "stream",
     "text": [
      "[79371.06174339]\n"
     ]
    }
   ],
   "source": [
    "#Geometric mean\n",
    "from pandas import DataFrame\n",
    "from scipy.stats.mstats import gmean\n",
    "\n",
    "df = DataFrame(Data1)\n",
    "\n",
    "geometric_mean = gmean(df)\n",
    "print(geometric_mean)"
   ]
  },
  {
   "cell_type": "code",
   "execution_count": 59,
   "id": "cf4556ec",
   "metadata": {},
   "outputs": [
    {
     "name": "stdout",
     "output_type": "stream",
     "text": [
      "15799.5\n"
     ]
    }
   ],
   "source": [
    "#Percentiles\n",
    "Q1 = np.percentile(Data1, 25)\n",
    "print(Q1)"
   ]
  },
  {
   "cell_type": "code",
   "execution_count": 60,
   "id": "2718b084",
   "metadata": {},
   "outputs": [
    {
     "name": "stdout",
     "output_type": "stream",
     "text": [
      "128012.5\n"
     ]
    }
   ],
   "source": [
    "Q2 = np.percentile(Data1, 50)\n",
    "print(Q2)"
   ]
  },
  {
   "cell_type": "code",
   "execution_count": 61,
   "id": "cf004b89",
   "metadata": {},
   "outputs": [
    {
     "name": "stdout",
     "output_type": "stream",
     "text": [
      "575620.25\n"
     ]
    }
   ],
   "source": [
    "Q3 = np.percentile(Data1, 75)\n",
    "print(Q3)"
   ]
  },
  {
   "cell_type": "code",
   "execution_count": 47,
   "id": "0ed3e2ba",
   "metadata": {},
   "outputs": [
    {
     "name": "stdout",
     "output_type": "stream",
     "text": [
      "559820.75\n"
     ]
    }
   ],
   "source": [
    "Q1 = np.percentile(Data1, 25)\n",
    "Q3 = np.percentile(Data1, 75)\n",
    "iqr = Q3 - Q1\n",
    "print (iqr)"
   ]
  },
  {
   "cell_type": "code",
   "execution_count": 56,
   "id": "e1abfc5e",
   "metadata": {},
   "outputs": [
    {
     "data": {
      "text/plain": [
       "Total Infected    2.021411e+13\n",
       "dtype: float64"
      ]
     },
     "execution_count": 56,
     "metadata": {},
     "output_type": "execute_result"
    }
   ],
   "source": [
    "#Variance\n",
    "Data1.var()"
   ]
  },
  {
   "cell_type": "code",
   "execution_count": 57,
   "id": "383e9e4f",
   "metadata": {},
   "outputs": [
    {
     "data": {
      "text/plain": [
       "Total Infected    4.496011e+06\n",
       "dtype: float64"
      ]
     },
     "execution_count": 57,
     "metadata": {},
     "output_type": "execute_result"
    }
   ],
   "source": [
    "#Standard Deviation\n",
    "Data1.std()"
   ]
  },
  {
   "cell_type": "code",
   "execution_count": 58,
   "id": "19ac4bf1",
   "metadata": {},
   "outputs": [
    {
     "data": {
      "text/html": [
       "<div>\n",
       "<style scoped>\n",
       "    .dataframe tbody tr th:only-of-type {\n",
       "        vertical-align: middle;\n",
       "    }\n",
       "\n",
       "    .dataframe tbody tr th {\n",
       "        vertical-align: top;\n",
       "    }\n",
       "\n",
       "    .dataframe thead th {\n",
       "        text-align: right;\n",
       "    }\n",
       "</style>\n",
       "<table border=\"1\" class=\"dataframe\">\n",
       "  <thead>\n",
       "    <tr style=\"text-align: right;\">\n",
       "      <th></th>\n",
       "      <th>Total Infected</th>\n",
       "    </tr>\n",
       "  </thead>\n",
       "  <tbody>\n",
       "    <tr>\n",
       "      <th>count</th>\n",
       "      <td>2.120000e+02</td>\n",
       "    </tr>\n",
       "    <tr>\n",
       "      <th>mean</th>\n",
       "      <td>1.198016e+06</td>\n",
       "    </tr>\n",
       "    <tr>\n",
       "      <th>std</th>\n",
       "      <td>4.496011e+06</td>\n",
       "    </tr>\n",
       "    <tr>\n",
       "      <th>min</th>\n",
       "      <td>1.000000e+00</td>\n",
       "    </tr>\n",
       "    <tr>\n",
       "      <th>25%</th>\n",
       "      <td>1.579950e+04</td>\n",
       "    </tr>\n",
       "    <tr>\n",
       "      <th>50%</th>\n",
       "      <td>1.280125e+05</td>\n",
       "    </tr>\n",
       "    <tr>\n",
       "      <th>75%</th>\n",
       "      <td>5.756202e+05</td>\n",
       "    </tr>\n",
       "    <tr>\n",
       "      <th>max</th>\n",
       "      <td>4.791619e+07</td>\n",
       "    </tr>\n",
       "  </tbody>\n",
       "</table>\n",
       "</div>"
      ],
      "text/plain": [
       "       Total Infected\n",
       "count    2.120000e+02\n",
       "mean     1.198016e+06\n",
       "std      4.496011e+06\n",
       "min      1.000000e+00\n",
       "25%      1.579950e+04\n",
       "50%      1.280125e+05\n",
       "75%      5.756202e+05\n",
       "max      4.791619e+07"
      ]
     },
     "execution_count": 58,
     "metadata": {},
     "output_type": "execute_result"
    }
   ],
   "source": [
    "#Five Number Summary\n",
    "Data1.describe()"
   ]
  },
  {
   "cell_type": "code",
   "execution_count": 62,
   "id": "415e52be",
   "metadata": {},
   "outputs": [
    {
     "name": "stdout",
     "output_type": "stream",
     "text": [
      "Total Infected    3.75288\n",
      "dtype: float64\n"
     ]
    }
   ],
   "source": [
    "#Coefficient of Variation\n",
    "CV = Data1.std()/Data1.mean()\n",
    "print(CV)"
   ]
  },
  {
   "cell_type": "code",
   "execution_count": 63,
   "id": "642ea123",
   "metadata": {},
   "outputs": [
    {
     "data": {
      "image/png": "[encoded data removed]",
      "text/plain": [
       "<Figure size 640x480 with 1 Axes>"
      ]
     },
     "metadata": {},
     "output_type": "display_data"
    }
   ],
   "source": [
    "#Histogram\n",
    "\n",
    "import matplotlib.pyplot as plt\n",
    "\n",
    "x = np.random.normal(Data1)\n",
    "\n",
    "plt.hist(x)\n",
    "plt.show()"
   ]
  },
  {
   "cell_type": "code",
   "execution_count": 68,
   "id": "ce8cb82f",
   "metadata": {},
   "outputs": [
    {
     "data": {
      "text/plain": [
       "array([[-2.32177171e-01],\n",
       "       [-2.24047451e-01],\n",
       "       [-2.20726673e-01],\n",
       "       [-2.63565937e-01],\n",
       "       [-2.52620635e-01],\n",
       "       [-2.66839228e-01],\n",
       "       [-2.66174626e-01],\n",
       "       [ 9.15800330e-01],\n",
       "       [-1.93667515e-01],\n",
       "       [-2.63507079e-01],\n",
       "       [-2.24593892e-01],\n",
       "       [-5.04917039e-02],\n",
       "       [-1.42052880e-01],\n",
       "       [-2.62060384e-01],\n",
       "       [-2.05287006e-01],\n",
       "       [ 8.34898213e-02],\n",
       "       [-2.62167175e-01],\n",
       "       [-1.26799373e-01],\n",
       "       [ 6.39176300e-02],\n",
       "       [-2.60649806e-01],\n",
       "       [-2.61556303e-01],\n",
       "       [-2.65820142e-01],\n",
       "       [-2.66507484e-01],\n",
       "       [-1.50383920e-01],\n",
       "       [-2.08327095e-01],\n",
       "       [-2.23907887e-01],\n",
       "       [ 4.62834443e+00],\n",
       "       [-2.66485190e-01],\n",
       "       [-2.63923542e-01],\n",
       "       [-1.20918953e-01],\n",
       "       [-2.63685882e-01],\n",
       "       [-2.62584530e-01],\n",
       "       [-2.40431071e-01],\n",
       "       [-2.43418100e-01],\n",
       "       [ 1.22703763e-01],\n",
       "       [-2.66506816e-01],\n",
       "       [-2.66155676e-01],\n",
       "       [-2.64491831e-01],\n",
       "       [-2.65954579e-01],\n",
       "       [-2.63855767e-01],\n",
       "       [ 1.17819020e-01],\n",
       "       [-2.45173798e-01],\n",
       "       [ 8.54758431e-01],\n",
       "       [-2.66112647e-01],\n",
       "       [-2.63045582e-01],\n",
       "       [-1.41315821e-01],\n",
       "       [-1.46727163e-01],\n",
       "       [-5.33460793e-02],\n",
       "       [-2.63252475e-01],\n",
       "       [-2.39397272e-01],\n",
       "       [ 1.55629295e-01],\n",
       "       [-1.71896632e-01],\n",
       "       [-2.66933980e-01],\n",
       "       [-2.64084063e-01],\n",
       "       [-2.65903078e-01],\n",
       "       [-1.78838273e-01],\n",
       "       [-2.54222277e-01],\n",
       "       [-1.51258982e-01],\n",
       "       [-1.90408047e-01],\n",
       "       [-2.40810971e-01],\n",
       "       [-2.64086293e-01],\n",
       "       [-2.65519834e-01],\n",
       "       [-2.19692873e-01],\n",
       "       [-1.84865391e-01],\n",
       "       [-2.66437479e-01],\n",
       "       [-2.55411025e-01],\n",
       "       [-2.29128387e-01],\n",
       "       [ 1.35765734e+00],\n",
       "       [-2.56978557e-01],\n",
       "       [-2.58135200e-01],\n",
       "       [-2.58912389e-01],\n",
       "       [-2.64867718e-01],\n",
       "       [-9.18771381e-02],\n",
       "       [ 8.56205572e-01],\n",
       "       [-2.37965068e-01],\n",
       "       [-2.65629970e-01],\n",
       "       [-8.16298789e-02],\n",
       "       [-2.66872001e-01],\n",
       "       [-2.65785586e-01],\n",
       "       [-2.54848532e-01],\n",
       "       [-1.31094870e-01],\n",
       "       [-2.60244936e-01],\n",
       "       [-2.65665418e-01],\n",
       "       [-2.58884521e-01],\n",
       "       [-2.61620958e-01],\n",
       "       [-1.83049497e-01],\n",
       "       [-2.64330864e-01],\n",
       "       [-5.28765554e-02],\n",
       "       [-2.63583327e-01],\n",
       "       [ 7.41284174e+00],\n",
       "       [ 6.80666944e-01],\n",
       "       [ 1.08066208e+00],\n",
       "       [ 1.94237270e-01],\n",
       "       [-1.55965815e-01],\n",
       "       [-2.64806408e-01],\n",
       "       [ 3.10957680e-02],\n",
       "       [ 8.16437610e-01],\n",
       "       [-2.46980997e-01],\n",
       "       [ 1.17592730e-01],\n",
       "       [-6.81976157e-02],\n",
       "       [-5.36138373e-02],\n",
       "       [-2.10395586e-01],\n",
       "       [-1.75014306e-01],\n",
       "       [-2.26421824e-01],\n",
       "       [-2.13415834e-01],\n",
       "       [-1.21568172e-01],\n",
       "       [-2.62256799e-01],\n",
       "       [-2.65773993e-01],\n",
       "       [-1.85664652e-01],\n",
       "       [-2.66240618e-01],\n",
       "       [-1.68064416e-01],\n",
       "       [-2.48309977e-01],\n",
       "       [-2.67075550e-01],\n",
       "       [-2.57356227e-01],\n",
       "       [-2.53305078e-01],\n",
       "       [ 3.00596253e-01],\n",
       "       [-2.47063264e-01],\n",
       "       [-2.63377102e-01],\n",
       "       [-2.58563925e-01],\n",
       "       [-2.67091825e-01],\n",
       "       [-2.57309631e-01],\n",
       "       [-2.58591124e-01],\n",
       "       [-2.62861428e-01],\n",
       "       [-2.62462355e-01],\n",
       "       [ 5.90297413e-01],\n",
       "       [-2.67092494e-01],\n",
       "       [-1.88432524e-01],\n",
       "       [-2.66317312e-01],\n",
       "       [-1.83857230e-01],\n",
       "       [-2.33185555e-01],\n",
       "       [-2.67083576e-01],\n",
       "       [-5.56896859e-02],\n",
       "       [-2.33332699e-01],\n",
       "       [-1.52663095e-01],\n",
       "       [-2.38319329e-01],\n",
       "       [-8.48717342e-02],\n",
       "       [ 2.44591815e-01],\n",
       "       [-2.64502087e-01],\n",
       "       [-2.65116079e-01],\n",
       "       [-2.63330060e-01],\n",
       "       [-2.65600764e-01],\n",
       "       [-2.19572483e-01],\n",
       "       [-2.20435283e-01],\n",
       "       [-2.16143799e-01],\n",
       "       [-1.99219758e-01],\n",
       "       [ 1.82502982e-02],\n",
       "       [-2.67090934e-01],\n",
       "       [-1.71939883e-01],\n",
       "       [-1.61277945e-01],\n",
       "       [-2.59738849e-01],\n",
       "       [-1.64101331e-01],\n",
       "       [ 2.26630407e-01],\n",
       "       [ 3.61282553e-01],\n",
       "       [ 4.49460304e-01],\n",
       "       [-2.01828873e-02],\n",
       "       [-2.13311049e-01],\n",
       "       [-2.54637848e-01],\n",
       "       [ 1.21822904e-01],\n",
       "       [ 1.76374179e+00],\n",
       "       [-2.44767814e-01],\n",
       "       [-2.66479839e-01],\n",
       "       [-2.64230762e-01],\n",
       "       [-2.66229471e-01],\n",
       "       [-2.65917793e-01],\n",
       "       [-2.67092048e-01],\n",
       "       [-2.65844666e-01],\n",
       "       [-1.44637491e-01],\n",
       "       [-2.50604090e-01],\n",
       "       [ 2.93102149e-03],\n",
       "       [-2.62046784e-01],\n",
       "       [-2.65666756e-01],\n",
       "       [-2.14209298e-01],\n",
       "       [-2.66082327e-01],\n",
       "       [-1.41475005e-01],\n",
       "       [-1.82381328e-01],\n",
       "       [-2.67088258e-01],\n",
       "       [-2.62001303e-01],\n",
       "       [ 3.85233178e-01],\n",
       "       [-1.78479330e-01],\n",
       "       [-2.64292963e-01],\n",
       "       [ 8.58149660e-01],\n",
       "       [-1.44173095e-01],\n",
       "       [-2.58121823e-01],\n",
       "       [-2.55928036e-01],\n",
       "       [-3.46574023e-03],\n",
       "       [-6.22623518e-02],\n",
       "       [-2.56775899e-01],\n",
       "       [-2.63415003e-01],\n",
       "       [-2.63282350e-01],\n",
       "       [-2.61252428e-01],\n",
       "       [ 1.84317518e-01],\n",
       "       [-2.62676160e-01],\n",
       "       [-2.61260900e-01],\n",
       "       [-2.67092494e-01],\n",
       "       [-2.53210549e-01],\n",
       "       [-1.07533286e-01],\n",
       "       [ 1.60747282e+00],\n",
       "       [-1.01888520e-01],\n",
       "       [-2.38786400e-01],\n",
       "       [ 1.86451442e+00],\n",
       "       [ 4.52674737e-01],\n",
       "       [-1.78684664e-01],\n",
       "       [ 1.04156220e+01],\n",
       "       [-2.24751960e-01],\n",
       "       [-2.67091380e-01],\n",
       "       [-1.73512320e-01],\n",
       "       [-3.63130180e-02],\n",
       "       [-2.66993506e-01],\n",
       "       [-2.67090488e-01],\n",
       "       [-2.64881540e-01],\n",
       "       [-2.20274985e-01],\n",
       "       [-2.37343272e-01]])"
      ]
     },
     "execution_count": 68,
     "metadata": {},
     "output_type": "execute_result"
    }
   ],
   "source": [
    "#Z-Scores\n",
    "\n",
    "import pandas as pd\n",
    "import numpy as np\n",
    "import scipy.stats as stats\n",
    "\n",
    "x = np.array(Data1)\n",
    "\n",
    "stats.zscore(x)"
   ]
  },
  {
   "cell_type": "code",
   "execution_count": 90,
   "id": "851601a2",
   "metadata": {},
   "outputs": [
    {
     "data": {
      "text/html": [
       "<div>\n",
       "<style scoped>\n",
       "    .dataframe tbody tr th:only-of-type {\n",
       "        vertical-align: middle;\n",
       "    }\n",
       "\n",
       "    .dataframe tbody tr th {\n",
       "        vertical-align: top;\n",
       "    }\n",
       "\n",
       "    .dataframe thead th {\n",
       "        text-align: right;\n",
       "    }\n",
       "</style>\n",
       "<table border=\"1\" class=\"dataframe\">\n",
       "  <thead>\n",
       "    <tr style=\"text-align: right;\">\n",
       "      <th></th>\n",
       "      <th>Total Deaths</th>\n",
       "    </tr>\n",
       "  </thead>\n",
       "  <tbody>\n",
       "    <tr>\n",
       "      <th>0</th>\n",
       "      <td>7294</td>\n",
       "    </tr>\n",
       "    <tr>\n",
       "      <th>1</th>\n",
       "      <td>2990</td>\n",
       "    </tr>\n",
       "    <tr>\n",
       "      <th>2</th>\n",
       "      <td>5984</td>\n",
       "    </tr>\n",
       "    <tr>\n",
       "      <th>3</th>\n",
       "      <td>130</td>\n",
       "    </tr>\n",
       "    <tr>\n",
       "      <th>4</th>\n",
       "      <td>1727</td>\n",
       "    </tr>\n",
       "    <tr>\n",
       "      <th>...</th>\n",
       "      <td>...</td>\n",
       "    </tr>\n",
       "    <tr>\n",
       "      <th>207</th>\n",
       "      <td>7</td>\n",
       "    </tr>\n",
       "    <tr>\n",
       "      <th>208</th>\n",
       "      <td>1</td>\n",
       "    </tr>\n",
       "    <tr>\n",
       "      <th>209</th>\n",
       "      <td>1923</td>\n",
       "    </tr>\n",
       "    <tr>\n",
       "      <th>210</th>\n",
       "      <td>3666</td>\n",
       "    </tr>\n",
       "    <tr>\n",
       "      <th>211</th>\n",
       "      <td>4697</td>\n",
       "    </tr>\n",
       "  </tbody>\n",
       "</table>\n",
       "<p>212 rows × 1 columns</p>\n",
       "</div>"
      ],
      "text/plain": [
       "     Total Deaths\n",
       "0            7294\n",
       "1            2990\n",
       "2            5984\n",
       "3             130\n",
       "4            1727\n",
       "..            ...\n",
       "207             7\n",
       "208             1\n",
       "209          1923\n",
       "210          3666\n",
       "211          4697\n",
       "\n",
       "[212 rows x 1 columns]"
      ]
     },
     "execution_count": 90,
     "metadata": {},
     "output_type": "execute_result"
    }
   ],
   "source": [
    "Data2 = pd.read_excel(\"Country-wise-COVID-cases_v5.xlsx\", usecols = [2])\n",
    "Data2"
   ]
  },
  {
   "cell_type": "code",
   "execution_count": 91,
   "id": "2699bd7b",
   "metadata": {},
   "outputs": [
    {
     "name": "stdout",
     "output_type": "stream",
     "text": [
      "[[4.81784387e+09 6.31618737e+09 6.02745466e+09 ... 2.67082796e+08\n",
      "  6.98755388e+09 4.37660796e+09]\n",
      " [6.31618737e+09 8.34704900e+09 7.82758856e+09 ... 3.44409307e+08\n",
      "  9.25595988e+09 5.78838327e+09]\n",
      " [6.02745466e+09 7.82758856e+09 7.63994440e+09 ... 3.39157746e+08\n",
      "  8.63154524e+09 5.41412181e+09]\n",
      " ...\n",
      " [2.67082796e+08 3.44409307e+08 3.39157746e+08 ... 1.54223273e+07\n",
      "  3.79482002e+08 2.38663181e+08]\n",
      " [6.98755388e+09 9.25595988e+09 8.63154524e+09 ... 3.79482002e+08\n",
      "  1.02717619e+10 6.42126913e+09]\n",
      " [4.37660796e+09 5.78838327e+09 5.41412181e+09 ... 2.38663181e+08\n",
      "  6.42126913e+09 4.01571452e+09]]\n"
     ]
    }
   ],
   "source": [
    "#CoVariance\n",
    "CV = np.array(Data)\n",
    "cov_matrix = np.cov(CV, bias=True)\n",
    "print(cov_matrix)"
   ]
  },
  {
   "cell_type": "code",
   "execution_count": 93,
   "id": "fa47c941",
   "metadata": {},
   "outputs": [
    {
     "data": {
      "image/png": "[encoded data removed]",
      "text/plain": [
       "<Figure size 640x480 with 2 Axes>"
      ]
     },
     "metadata": {},
     "output_type": "display_data"
    }
   ],
   "source": [
    "#correlation efficient \n",
    "import seaborn as sn\n",
    "import matplotlib.pyplot as plt\n",
    "\n",
    "sn.heatmap(cov_matrix, annot=True, fmt=\"g\")\n",
    "plt.show()"
   ]
  },
  {
   "cell_type": "code",
   "execution_count": 94,
   "id": "34d055b7",
   "metadata": {},
   "outputs": [
    {
     "name": "stdout",
     "output_type": "stream",
     "text": [
      "[[6.02230484e+09 7.89523422e+09 7.53431833e+09 ... 3.33853495e+08\n",
      "  8.73444234e+09 5.47075995e+09]\n",
      " [7.89523422e+09 1.04338113e+10 9.78448570e+09 ... 4.30511633e+08\n",
      "  1.15699498e+10 7.23547909e+09]\n",
      " [7.53431833e+09 9.78448570e+09 9.54993050e+09 ... 4.23947183e+08\n",
      "  1.07894316e+10 6.76765226e+09]\n",
      " ...\n",
      " [3.33853495e+08 4.30511633e+08 4.23947183e+08 ... 1.92779091e+07\n",
      "  4.74352502e+08 2.98328977e+08]\n",
      " [8.73444234e+09 1.15699498e+10 1.07894316e+10 ... 4.74352502e+08\n",
      "  1.28397024e+10 8.02658641e+09]\n",
      " [5.47075995e+09 7.23547909e+09 6.76765226e+09 ... 2.98328977e+08\n",
      "  8.02658641e+09 5.01964315e+09]]\n"
     ]
    }
   ],
   "source": [
    "cov_matrix = np.cov(CV, bias=False)\n",
    "print(cov_matrix)"
   ]
  },
  {
   "cell_type": "code",
   "execution_count": 104,
   "id": "db6c8004",
   "metadata": {},
   "outputs": [
    {
     "name": "stderr",
     "output_type": "stream",
     "text": [
      "C:\\Users\\itume\\AppData\\Local\\Temp\\ipykernel_18144\\2346200173.py:7: FutureWarning: The default value of numeric_only in DataFrame.mean is deprecated. In a future version, it will default to False. In addition, specifying 'numeric_only=None' is deprecated. Select only valid columns or specify the value of numeric_only to silence this warning.\n",
      "  Mean = Data1.mean()\n",
      "C:\\Users\\itume\\AppData\\Local\\Temp\\ipykernel_18144\\2346200173.py:8: FutureWarning: The default value of numeric_only in DataFrame.std is deprecated. In a future version, it will default to False. In addition, specifying 'numeric_only=None' is deprecated. Select only valid columns or specify the value of numeric_only to silence this warning.\n",
      "  Stdev = Data1.std()\n"
     ]
    },
    {
     "data": {
      "image/png": "[encoded data removed]",
      "text/plain": [
       "<Figure size 640x480 with 1 Axes>"
      ]
     },
     "metadata": {},
     "output_type": "display_data"
    }
   ],
   "source": [
    "#Histogram\n",
    "\n",
    "import matplotlib.pyplot as plt\n",
    "import numpy as np\n",
    "%matplotlib inline\n",
    "\n",
    "Mean = Data1.mean()\n",
    "Stdev = Data1.std()\n",
    "size = 212\n",
    "var = np.random.normal(Mean, Stdev, size)\n",
    "\n",
    "plt.hist(var)\n",
    "plt.show()"
   ]
  },
  {
   "cell_type": "code",
   "execution_count": null,
   "id": "0012e915",
   "metadata": {},
   "outputs": [],
   "source": [
    "#correlation coeffiecient\n",
    "\n",
    "import numpy as np\n",
    "import matplotlib.pyplot as plt\n",
    "\n",
    "x = np.array([Data1])\n",
    "y = np.array([Data2])\n",
    "ans = np.corrcoef(x,y)\n",
    "ans"
   ]
  },
  {
   "cell_type": "code",
   "execution_count": null,
   "id": "290b9df5",
   "metadata": {},
   "outputs": [],
   "source": [
    "#BoxPlot\n",
    "fig = Data.boxplot(size = 212)\n",
    "fig.show()"
   ]
  },
  {
   "cell_type": "code",
   "execution_count": null,
   "id": "130df849",
   "metadata": {},
   "outputs": [],
   "source": [
    "#Scatter Plot\n",
    "fig = Data.scatter(x = Data, y = Data1)\n",
    "fig.show()"
   ]
  }
 ],
 "metadata": {
  "kernelspec": {
   "display_name": "Python 3 (ipykernel)",
   "language": "python",
   "name": "python3"
  },
  "language_info": {
   "codemirror_mode": {
    "name": "ipython",
    "version": 3
   },
   "file_extension": ".py",
   "mimetype": "text/x-python",
   "name": "python",
   "nbconvert_exporter": "python",
   "pygments_lexer": "ipython3",
   "version": "3.10.9"
  }
 },
 "nbformat": 4,
 "nbformat_minor": 5
}
